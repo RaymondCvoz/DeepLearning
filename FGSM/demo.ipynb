{
 "cells": [
  {
   "cell_type": "code",
   "execution_count": 13,
   "metadata": {},
   "outputs": [
    {
     "name": "stdout",
     "output_type": "stream",
     "text": [
      "CUDA Available:  False\n"
     ]
    }
   ],
   "source": [
    "from PIL import Image\n",
    "import torch\n",
    "import torch.nn as nn\n",
    "import torch.nn.functional as F\n",
    "import torch.optim as optim \n",
    "from torchvision import datasets, transforms\n",
    "from __future__ import print_function\n",
    "import numpy as np\n",
    "import matplotlib.pyplot as plt\n",
    "\n",
    "epslions = [0, .5, .1, .15, .2, .25, .3, .35, .4]\n",
    "pretrained_model = \"data/lenet_mnist_model.pth\"\n",
    "use_cuda = True\n",
    "\n",
    "class Net(nn.Module):\n",
    "    def __init__(self) -> None:\n",
    "        super(Net,self).__init__()\n",
    "        self.conv1 = nn.Conv2d(3,10,kernel_size=5)\n",
    "        self.conv2 = nn.Conv2d(10,20,kernel_size=5)\n",
    "        self.conv2_drop = nn.Dropout2d()\n",
    "        self.fc1 = nn.Linear(532980,50)\n",
    "        self.fc2 = nn.Linear(50,10)\n",
    "    \n",
    "    def forward(self,x):\n",
    "        x = F.relu(F.max_pool2d(self.conv1(x),2))\n",
    "        x = F.relu(F.max_pool2d(self.conv2_drop(self.conv2(x)),2))\n",
    "        x = x.view(-1,532980)\n",
    "        x = F.relu(self.fc1(x));\n",
    "        x = F.dropout(x,training = self.training)\n",
    "        x = self.fc2(x)\n",
    "        return F.log_softmax(x, dim = 1)\n",
    "\n",
    "dataset = datasets.MNIST('../data',train = False,download = True,transform = transforms.Compose([transforms.ToTensor()]))\n",
    "\n",
    "test_loader = torch.utils.data.DataLoader(dataset = dataset, batch_size = 1,shuffle = True)\n",
    "\n",
    "print(\"CUDA Available: \",torch.cuda.is_available())\n",
    "device = torch.device(\"cuda\" if (use_cuda and torch.cuda.is_available()) else \"cpu\")\n",
    "\n",
    "model = Net().to(device)\n",
    "#model.load_state_dict(torch.load(pretrained_model, map_location = 'cpu'))\n",
    "model.eval()\n",
    "\n",
    "\n",
    "def fgsm_attack(image, epsilon, data_grad):\n",
    "    sign_data_grad = data_grad.sign()\n",
    "    perturbed_image = image + epsilon * sign_data_grad\n",
    "    perturbed_image = torch.clamp(perturbed_image, 0, 1)\n",
    "    return perturbed_image\n",
    "\n",
    "# def test(model, device, test_loader):\n",
    "#     correct = 0;\n",
    "    \n",
    "#     for data, target in test_loader:\n",
    "#         data, target = data.to(device), target.to(device)\n",
    "#         data.requires_grad = True\n",
    "#         print(type(data),end=\"\\n\")\n",
    "#         output = model(data)\n",
    "#         pred_result = output.max(1,keepdim = True)[1]\n",
    "#         if pred_result.item() == target.item():\n",
    "#             correct += 1\n",
    "    \n",
    "#     print(\"correct / total : {} / {}\".format(correct,len(test_loader)))\n",
    "#     return correct, len(test_loader)\n",
    "\n",
    "\n",
    "# test(model,device,test_loader)\n",
    "\n",
    "def demo(model, device, img):  \n",
    "    \n",
    "    output = model(img)\n",
    "    \n",
    "img_path = \"D:\\\\Env\\\\vscode\\\\DeepLearning\\\\FGSM\\\\dataset\\\\test\\\\dog.jpg\"\n",
    "loader = transforms.Compose([transforms.ToTensor()])\n",
    "img = Image.open(img_path)\n",
    "img_tensor = loader(img)\n",
    "demo(model,device,img_tensor)\n",
    "    \n",
    "    \n"
   ]
  },
  {
   "cell_type": "code",
   "execution_count": 1,
   "metadata": {},
   "outputs": [
    {
     "ename": "AttributeError",
     "evalue": "module 'torchvision.datasets' has no attribute 'load_dataset'",
     "output_type": "error",
     "traceback": [
      "\u001b[1;31m---------------------------------------------------------------------------\u001b[0m",
      "\u001b[1;31mAttributeError\u001b[0m                            Traceback (most recent call last)",
      "\u001b[1;32md:\\Env\\vscode\\DeepLearning\\FGSM\\demo.ipynb Cell 2\u001b[0m in \u001b[0;36m<cell line: 3>\u001b[1;34m()\u001b[0m\n\u001b[0;32m      <a href='vscode-notebook-cell:/d%3A/Env/vscode/DeepLearning/FGSM/demo.ipynb#W2sZmlsZQ%3D%3D?line=0'>1</a>\u001b[0m \u001b[39mfrom\u001b[39;00m \u001b[39mtorchvision\u001b[39;00m \u001b[39mimport\u001b[39;00m datasets, transforms\n\u001b[1;32m----> <a href='vscode-notebook-cell:/d%3A/Env/vscode/DeepLearning/FGSM/demo.ipynb#W2sZmlsZQ%3D%3D?line=2'>3</a>\u001b[0m dataset \u001b[39m=\u001b[39m datasets\u001b[39m.\u001b[39;49mload_dataset(\u001b[39m\"\u001b[39m\u001b[39msst\u001b[39m\u001b[39m\"\u001b[39m, split\u001b[39m=\u001b[39m\u001b[39m\"\u001b[39m\u001b[39mtrain[:100]\u001b[39m\u001b[39m\"\u001b[39m)\u001b[39m.\u001b[39mmap(function\u001b[39m=\u001b[39mdataset_mapping)\n",
      "\u001b[1;31mAttributeError\u001b[0m: module 'torchvision.datasets' has no attribute 'load_dataset'"
     ]
    }
   ],
   "source": []
  },
  {
   "cell_type": "code",
   "execution_count": 9,
   "metadata": {},
   "outputs": [],
   "source": [
    "from PIL import Image\n",
    "\n",
    "img_path = \"D:\\\\Env\\\\vscode\\\\DeepLearning\\\\FGSM\\\\dataset\\\\test\\\\dog.jpg\"\n",
    "img = Image.open(img_path)\n",
    "img.show()"
   ]
  }
 ],
 "metadata": {
  "kernelspec": {
   "display_name": "Python 3.9.12 ('base')",
   "language": "python",
   "name": "python3"
  },
  "language_info": {
   "codemirror_mode": {
    "name": "ipython",
    "version": 3
   },
   "file_extension": ".py",
   "mimetype": "text/x-python",
   "name": "python",
   "nbconvert_exporter": "python",
   "pygments_lexer": "ipython3",
   "version": "3.9.12"
  },
  "orig_nbformat": 4,
  "vscode": {
   "interpreter": {
    "hash": "3aa0f28ee606a54743ae1927e0069f440ac3f26be01c64cb379d1d6ed90f8635"
   }
  }
 },
 "nbformat": 4,
 "nbformat_minor": 2
}
